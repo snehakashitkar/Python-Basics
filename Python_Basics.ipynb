{
  "nbformat": 4,
  "nbformat_minor": 0,
  "metadata": {
    "colab": {
      "provenance": []
    },
    "kernelspec": {
      "name": "python3",
      "display_name": "Python 3"
    },
    "language_info": {
      "name": "python"
    }
  },
  "cells": [
    {
      "cell_type": "markdown",
      "source": [
        "#Python Basics"
      ],
      "metadata": {
        "id": "sKFJSJUg1WLF"
      }
    },
    {
      "cell_type": "markdown",
      "source": [
        "1.What is Python, and why is it popular?\n",
        "  - Python is a versatile, high-level programming language known for its readability and ease of use. It's used for everything from web development and data analysis to machine learning and scientific computing.\n",
        "  Why is Python so popular?\n",
        "  - Easy to learn: Beginner-friendly syntax, making it accessible to newcomers.\n",
        "  -Wide applications: Used for web development, data science, machine learning, scripting, and more.\n",
        "  -Strong community: Extensive resources, tutorials, and support available.\n",
        "  -Powerful libraries: Offers a vast collection of libraries for various tasks.\n",
        "\n",
        "2.What is an interpreter in Python?\n",
        "  - **In Python, an interpreter is a program that reads and executes your Python code line by line.**\n",
        "\n",
        "* **Line-by-line execution:** Unlike compilers that translate the entire program at once, the interpreter processes your code step-by-step.\n",
        "* **Immediate feedback:** This allows you to see the results of each line as it's executed, making it easier to identify and fix errors quickly.\n",
        "* **Flexibility:** Interpreters offer flexibility as you can modify and test your code interactively.\n",
        "\n",
        "3.What are pre-defined keywords in Python?\n",
        "  - Control Flow: if, elif, else, for, while, break, continue, pass\n",
        "Data Types: True, False, None\n",
        "Function Definitions: def, return, lambda\n",
        "Class Definitions: class\n",
        "Exception Handling: try, except, finally, raise\n",
        "Scope and Namespaces: global, nonlocal\n",
        "Module and Package Management: import, from, as\n",
        "Other: and, or, not, in, is, assert, async, await, with, del\n",
        "- Reserved: You cannot use keywords as variable names, function names, or other identifiers.\n",
        "Meaningful: Each keyword has a specific purpose within the Python language.\n",
        "Essential: Keywords are crucial for writing correct and functional Python code.\n",
        "\n",
        "4.Can keywords be used as variable names?\n",
        " - No, keywords cannot be used as variable names in Python.\n",
        "\n",
        "* **Keywords are reserved:** They have special meanings within the Python language, defining its structure and functionality.\n",
        "* **Identifiers:** Variable names, function names, and class names are examples of identifiers.\n",
        "* **Restriction:** Using a keyword as an identifier would confuse the Python interpreter, leading to syntax errors.\n",
        "\n",
        "**Example:**\n",
        "\n",
        "```python\n",
        "\n",
        "if = 10\n",
        "\n",
        "my_if = 10\n",
        "```\n",
        "\n",
        "5.What is mutability in Python?\n",
        "  - In Python, mutability refers to whether an object's value can be changed after it's created.\n",
        "\n",
        "* **Mutable objects** can be modified in place. This means you can change their contents without creating a new object. Examples include lists, dictionaries, and sets.\n",
        "\n",
        "* **Immutable objects** cannot be changed after they are created. If you want to change an immutable object, you must create a new object with the desired changes. Examples include numbers, strings, and tuples.\n",
        "\n",
        "* **Mutable:** Think of it like a changeable notebook where you can add, remove, or change pages.\n",
        "* **Immutable:** Imagine a sealed envelope. Once it's sealed, you can't change what's inside without opening and resealing it.\n",
        "\n",
        "6.Why are lists mutable, but tuples are immutable?\n",
        "* **Add items:** `my_list.append(new_item)`\n",
        "* **Remove items:** `my_list.remove(item)`\n",
        "* **Change existing items:** `my_list[index] = new_value`\n",
        "\n",
        "This flexibility is essential for many programming tasks, like building dynamic data structures.\n",
        "\n",
        "* **Efficiency:** Immutable objects can be more efficient in certain situations because they can be hashed more easily. This allows them to be used as keys in dictionaries.\n",
        "* **Safety:** Immutability can help prevent accidental changes to data that should remain constant. This can make your code more predictable and less prone to errors.\n",
        "* **Readability:** Tuples can be used to represent data that should not be modified, such as coordinates or configuration settings. This makes your code more readable and easier to understand.\n",
        "\n",
        "\n",
        "7.What is the difference between “==” and “is” operators in Python?\n",
        "\n",
        "* **Mutable objects** can be modified in place. This means you can change their contents without creating a new object. Examples include lists, dictionaries, and sets.\n",
        "\n",
        "* **Immutable objects** cannot be changed after they are created. If you want to change an immutable object, you must create a new object with the desired changes. Examples include numbers, strings, and tuples.\n",
        "\n",
        "**In simple terms:**\n",
        "\n",
        "* **Mutable:** Think of it like a changeable notebook where you can add, remove, or change pages.\n",
        "* **Immutable:** Imagine a sealed envelope. Once it's sealed, you can't change what's inside without opening and resealing it.\n",
        "\n",
        "8.What are logical operators in Python?\n",
        " - **Logical operators in Python** are used to combine or negate boolean expressions. They help you make complex decisions in your code based on multiple conditions. Here's a breakdown:\n",
        "\n",
        "**1. `and` Operator:**\n",
        "\n",
        "* **Purpose:** Returns `True` if both operands are `True`. Otherwise, it returns `False`.\n",
        "\n",
        "* **Example:**\n",
        "\n",
        "```python\n",
        "x = 5\n",
        "y = 10\n",
        "\n",
        "if x > 0 and y > 0:\n",
        "  print(\"Both x and y are positive.\")\n",
        "```\n",
        "\n",
        "**2. `or` Operator:**\n",
        "\n",
        "* **Purpose:** Returns `True` if at least one of the operands is `True`. It returns `False` only if both operands are `False`.\n",
        "\n",
        "* **Example:**\n",
        "\n",
        "```python\n",
        "x = 5\n",
        "y = -2\n",
        "\n",
        "if x > 0 or y > 0:\n",
        "  print(\"At least one of x or y is positive.\")\n",
        "```\n",
        "\n",
        "**3. `not` Operator:**\n",
        "\n",
        "* **Purpose:** Reverses the boolean value of its operand. If the operand is `True`, it returns `False`. If the operand is `False`, it returns `True`.\n",
        "\n",
        "* **Example:**\n",
        "\n",
        "```python\n",
        "x = 5\n",
        "\n",
        "if not x < 0:\n",
        "  print(\"x is not negative.\")\n",
        "```\n",
        "\n",
        "**Key Points:**\n",
        "\n",
        "* Logical operators are often used within conditional statements (`if`, `elif`, `else`) to control the flow of your program.\n",
        "\n",
        "\n",
        "9.What is type casting in Python?\n",
        "  -  **Type Casting (Type Conversion) in Python**\n",
        "\n",
        "Type casting, also known as type conversion, is the process of changing a variable's data type to another data type. Python provides two types of type casting:\n",
        "\n",
        "**1. Implicit Type Casting (Automatic Type Conversion)**\n",
        "\n",
        "* Python automatically performs implicit type casting in certain situations to prevent data loss.\n",
        "* This usually happens when operating with different numeric data types.\n",
        "\n",
        "In this example, Python implicitly converts the integer `x` to a float before performing the addition to avoid losing precision.\n",
        "\n",
        "**2. Explicit Type Casting (Manual Type Conversion)**\n",
        "\n",
        "* You can explicitly convert data types using built-in functions like `int()`, `float()`, `str()`, `list()`, etc.\n",
        "\n",
        "\n",
        "\n",
        "10.What is the difference between implicit and explicit type casting?\n",
        "  - **Type casting** is like changing clothes for a doll. It's about making a variable wear a different \"type\" of data.\n",
        "\n",
        "* **Implicit:** Imagine the doll comes with a default outfit. **Implicit casting** is like the doll automatically changing into a more suitable outfit when needed, without you telling it to. The language does it for you.\n",
        "   \n",
        "* **Explicit:** This is like you, the programmer, choosing a specific outfit for the doll. You tell the language exactly what type of data you want the variable to be.\n",
        "    * **Example:** You have a number stored as text (\"10\"). To use it in a calculation, you need to explicitly tell the language to change it from text to a number using something like `int(\"10\")`.\n",
        "\n",
        "* **Implicit:** The language decides the outfit change.\n",
        "* **Explicit:** You, the programmer, choose the outfit.\n",
        "\n",
        "\n",
        "11. What is the purpose of conditional statements in Python?\n",
        "    - Conditional statements in Python allow you to execute different blocks of code depending on whether a condition is true or false. They are fundamental for creating programs that can make decisions and respond dynamically to different inputs or situations.\n",
        "\n",
        "Types of Conditional Statements:\n",
        "\n",
        "if statement: Executes a block of code only if a condition is true.\n",
        "else statement: Executes a block of code if the condition in the preceding if statement is false.\n",
        "elif statement: (short for \"else if\") Allows you to check multiple conditions in sequence. If the if condition is false, it checks the elif condition, and so on.\n",
        "\n",
        "\n",
        "12.How does the elif statement work?\n",
        "   - The elif statement in Python is a crucial part of conditional logic, allowing you to check multiple conditions in a sequence. It stands for \"else if\" and provides a way to handle different scenarios efficiently.\n",
        "\n",
        "   Sequential Evaluation: elif statements are always placed after an if statement and before an optional else statement. When the program encounters an if statement, it evaluates its condition.\n",
        "\n",
        "Conditional Check: If the if condition is False, the program moves on to the first elif statement and evaluates its condition.\n",
        "\n",
        "Execution: If the elif condition is True, the code block indented under that elif is executed. Then, the program skips any remaining elif and else blocks and continues with the rest of the code.\n",
        "\n",
        "Multiple elif: You can have multiple elif statements to check various conditions in order. The program will evaluate them one by one until it finds a True condition.\n",
        "\n",
        "\n",
        "13.What is the difference between for and while loops?\n",
        "  - For loop:\n",
        "\n",
        "Use it when you know how many times you want to repeat something.\n",
        "It goes through a list of things one by one.\n",
        "While loop:\n",
        "\n",
        "Use it when you want to repeat something until a certain condition is met.\n",
        "It keeps going as long as the condition is true.\n",
        "\n",
        "For loop: \"Do this for each item in this box.\"\n",
        "While loop: \"Keep doing this while this is true.\"\n",
        "\n",
        "\n",
        "\n",
        "\n",
        "14.Describe a scenario where a while loop is more suitable than a for loop.\n",
        "  - you're playing a guessing game where the computer picks a secret number, and you have to guess it. You keep guessing until you get the right number.\n",
        "\n",
        "A while loop is perfect for this scenario. You don't know beforehand how many guesses it will take you to get the correct number. You keep looping (making guesses) while your guess is wrong. Once your guess is correct, the condition \"guess is wrong\" becomes false, and the loop stops.\n",
        "\n",
        "A for loop wouldn't be as suitable because you don't have a predefined set of guesses. You're not saying, \"Guess these 10 numbers.\" You're saying, \"Keep guessing until you get it right.\"\n",
        "\n",
        "\n"
      ],
      "metadata": {
        "id": "Mhfgzajj1ip_"
      }
    },
    {
      "cell_type": "code",
      "source": [
        "#1.Write a Python program to print \"Hello, World!.\n",
        "\n",
        "print(\"Hello, World!\")"
      ],
      "metadata": {
        "colab": {
          "base_uri": "https://localhost:8080/"
        },
        "id": "U-9bYTf51eN0",
        "outputId": "df66180b-f8f9-405d-8a25-9f3315ad7234"
      },
      "execution_count": 1,
      "outputs": [
        {
          "output_type": "stream",
          "name": "stdout",
          "text": [
            "Hello, World!\n"
          ]
        }
      ]
    },
    {
      "cell_type": "code",
      "source": [
        "#2.Write a Python program that displays your name and age\n",
        "\n",
        "name = input(\"Enter your name: \")\n",
        "age = int(input(\"Enter your age: \"))\n",
        "\n",
        "print(f\"My name is {name} and I am {age} years old.\")"
      ],
      "metadata": {
        "colab": {
          "base_uri": "https://localhost:8080/"
        },
        "id": "kd4MwFFmLdF3",
        "outputId": "70badfbc-553b-458c-aed6-ba83d242bf9c"
      },
      "execution_count": 3,
      "outputs": [
        {
          "output_type": "stream",
          "name": "stdout",
          "text": [
            "Enter your name: sneha\n",
            "Enter your age: 20\n",
            "My name is sneha and I am 20 years old.\n"
          ]
        }
      ]
    },
    {
      "cell_type": "code",
      "source": [
        "#3.Write code to print all the pre-defined keywords in Python using the keyword library\n",
        "\n",
        "help(\"keywords\")"
      ],
      "metadata": {
        "colab": {
          "base_uri": "https://localhost:8080/"
        },
        "id": "gQTsndCXL66o",
        "outputId": "3d5a1228-44f5-4aea-9b4e-b26633cc9872"
      },
      "execution_count": 5,
      "outputs": [
        {
          "output_type": "stream",
          "name": "stdout",
          "text": [
            "\n",
            "Here is a list of the Python keywords.  Enter any keyword to get more help.\n",
            "\n",
            "False               class               from                or\n",
            "None                continue            global              pass\n",
            "True                def                 if                  raise\n",
            "and                 del                 import              return\n",
            "as                  elif                in                  try\n",
            "assert              else                is                  while\n",
            "async               except              lambda              with\n",
            "await               finally             nonlocal            yield\n",
            "break               for                 not                 \n",
            "\n"
          ]
        }
      ]
    },
    {
      "cell_type": "code",
      "source": [
        "#4.Write a program that checks if a given word is a Python keyword\n",
        "\n",
        "import keyword\n",
        "\n",
        "word = input(\"Enter a word: \")\n",
        "\n",
        "if keyword.iskeyword(word):\n",
        "    print(f\"'{word}' is a Python keyword.\")\n",
        "else:\n",
        "    print(f\"'{word}' is not a Python keyword.\")"
      ],
      "metadata": {
        "colab": {
          "base_uri": "https://localhost:8080/"
        },
        "id": "__fJORCIMS5I",
        "outputId": "500384f0-f0f5-4ce4-98c2-72e598814c20"
      },
      "execution_count": 7,
      "outputs": [
        {
          "output_type": "stream",
          "name": "stdout",
          "text": [
            "Enter a word: and\n",
            "'and' is a Python keyword.\n"
          ]
        }
      ]
    },
    {
      "cell_type": "code",
      "source": [
        "#5.Create a list and tuple in Python, and demonstrate how attempting to change an element works differently for each.\n",
        "\n",
        "\n",
        "my_list = [1, 2, 3]\n",
        "print(\"Original list:\", my_list)\n",
        "\n",
        "my_list[1] = 10\n",
        "print(\"Modified list:\", my_list)\n",
        "\n",
        "\n",
        "my_tuple = (1, 2, 3)\n",
        "print(\"\\nOriginal tuple:\", my_tuple)\n",
        "\n",
        "try:\n",
        "    my_tuple[1] = 10\n",
        "except TypeError as e:\n",
        "    print(\"Error:\", e)\n",
        "\n",
        "print(\"Tuple remains:\", my_tuple)"
      ],
      "metadata": {
        "colab": {
          "base_uri": "https://localhost:8080/"
        },
        "id": "IHPKPu-HMk9g",
        "outputId": "2300b9c9-ea1a-44f4-e762-8ebc247e24d5"
      },
      "execution_count": 8,
      "outputs": [
        {
          "output_type": "stream",
          "name": "stdout",
          "text": [
            "Original list: [1, 2, 3]\n",
            "Modified list: [1, 10, 3]\n",
            "\n",
            "Original tuple: (1, 2, 3)\n",
            "Error: 'tuple' object does not support item assignment\n",
            "Tuple remains: (1, 2, 3)\n"
          ]
        }
      ]
    },
    {
      "cell_type": "code",
      "source": [
        "#6.Write a function to demonstrate the behavior of mutable and immutable arguments\n",
        "\n",
        "def modify_list(my_list):\n",
        "    my_list.append(4)\n",
        "\n",
        "def modify_string(my_string):\n",
        "    my_string += \"d\"\n",
        "    return my_string\n",
        "\n",
        "\n",
        "original_list = [1, 2, 3]\n",
        "print(\"Original list:\", original_list)\n",
        "\n",
        "modify_list(original_list)\n",
        "print(\"List after function call:\", original_list)\n",
        "\n",
        "\n",
        "original_string = \"abc\"\n",
        "print(\"\\nOriginal string:\", original_string)\n",
        "\n",
        "modified_string = modify_string(original_string)\n",
        "print(\"String after function call:\", original_string)\n",
        "print(\"Modified string from function:\", modified_string)"
      ],
      "metadata": {
        "colab": {
          "base_uri": "https://localhost:8080/"
        },
        "id": "qQz3rLJlM8aJ",
        "outputId": "29e1077c-67b6-4939-c330-ee4d4121631d"
      },
      "execution_count": 9,
      "outputs": [
        {
          "output_type": "stream",
          "name": "stdout",
          "text": [
            "Original list: [1, 2, 3]\n",
            "List after function call: [1, 2, 3, 4]\n",
            "\n",
            "Original string: abc\n",
            "String after function call: abc\n",
            "Modified string from function: abcd\n"
          ]
        }
      ]
    },
    {
      "cell_type": "code",
      "source": [
        "#7.Write a function to demonstrate the behavior of mutable and immutable arguments\n",
        "\n",
        "def modify_list(my_list):\n",
        "\n",
        "  my_list.append(4)\n",
        "\n",
        "def modify_string(my_string):\n",
        "\n",
        "  new_string = my_string + \" World\"\n",
        "  return new_string\n",
        "\n",
        "\n",
        "my_list = [1, 2, 3]\n",
        "modify_list(my_list)\n",
        "print(my_list)\n",
        "\n",
        "my_string = \"Hello\"\n",
        "modified_string = modify_string(my_string)\n",
        "print(my_string)\n",
        "print(modified_string)"
      ],
      "metadata": {
        "colab": {
          "base_uri": "https://localhost:8080/"
        },
        "id": "GO8rgNmVNWdn",
        "outputId": "51b4f299-aa99-4819-b351-2fbf1c53511b"
      },
      "execution_count": 11,
      "outputs": [
        {
          "output_type": "stream",
          "name": "stdout",
          "text": [
            "[1, 2, 3, 4]\n",
            "Hello\n",
            "Hello World\n"
          ]
        }
      ]
    },
    {
      "cell_type": "code",
      "source": [
        "#8.Write a program to demonstrate the use of logical operators\n",
        "\n",
        "def logical_operators_demo():\n",
        "\n",
        "\n",
        "    a = True\n",
        "    b = False\n",
        "\n",
        "\n",
        "    print(\"a && b:\", a and b)\n",
        "\n",
        "\n",
        "    print(\"a || b:\", a or b)\n",
        "\n",
        "\n",
        "    print(\"not a:\", not a)\n",
        "    print(\"not b:\", not b)\n",
        "\n",
        "    print(\"a and not b:\", a and not b)\n",
        "\n",
        "if __name__ == \"__main__\":\n",
        "    logical_operators_demo()"
      ],
      "metadata": {
        "colab": {
          "base_uri": "https://localhost:8080/"
        },
        "id": "DAx8Te4-NyWo",
        "outputId": "6a3a3385-0965-4a6d-aac8-a1a293de934d"
      },
      "execution_count": 13,
      "outputs": [
        {
          "output_type": "stream",
          "name": "stdout",
          "text": [
            "a && b: False\n",
            "a || b: True\n",
            "not a: False\n",
            "not b: True\n",
            "a and not b: True\n"
          ]
        }
      ]
    },
    {
      "cell_type": "code",
      "source": [
        "#9.Write a Python program to convert user input from string to integer, float, and boolean types.\n",
        "\n",
        "def convert_input(user_input):\n",
        "\n",
        "  integer_value = None\n",
        "  float_value = None\n",
        "  boolean_value = None\n",
        "\n",
        "  try:\n",
        "    integer_value = int(user_input)\n",
        "  except ValueError:\n",
        "    pass\n",
        "\n",
        "  try:\n",
        "    float_value = float(user_input)\n",
        "  except ValueError:\n",
        "    pass\n",
        "\n",
        "  if user_input.lower() in ['true', 't', 'yes', 'y', '1']:\n",
        "    boolean_value = True\n",
        "  elif user_input.lower() in ['false', 'f', 'no', 'n', '0']:\n",
        "    boolean_value = False\n",
        "\n",
        "  return integer_value, float_value, boolean_value\n",
        "\n",
        "\n",
        "user_input = input(\"Enter a value: \")\n",
        "\n",
        "integer_value, float_value, boolean_value = convert_input(user_input)\n",
        "\n",
        "print(\"Integer:\", integer_value)\n",
        "print(\"Float:\", float_value)\n",
        "print(\"Boolean:\", boolean_value)"
      ],
      "metadata": {
        "colab": {
          "base_uri": "https://localhost:8080/"
        },
        "id": "vbVkmD-yN8L4",
        "outputId": "a9cd2abc-cf92-4ec9-b483-2858c26c868b"
      },
      "execution_count": 14,
      "outputs": [
        {
          "output_type": "stream",
          "name": "stdout",
          "text": [
            "Enter a value: 23.4\n",
            "Integer: None\n",
            "Float: 23.4\n",
            "Boolean: None\n"
          ]
        }
      ]
    },
    {
      "cell_type": "code",
      "source": [
        "#10.Write code to demonstrate type casting with list elements.\n",
        "\n",
        "def cast_list_elements(lst, data_type):\n",
        "\n",
        "    new_lst = []\n",
        "    for item in lst:\n",
        "        try:\n",
        "            new_lst.append(data_type(item))\n",
        "        except ValueError:\n",
        "            print(f\"Cannot cast '{item}' to {data_type.__name__}\")\n",
        "            new_lst.append(item)\n",
        "    return new_lst\n",
        "\n",
        "\n",
        "my_list = [\"1\", \"2.5\", \"3\", \"a\", \"4.2\"]\n",
        "\n",
        "\n",
        "int_list = cast_list_elements(my_list, int)\n",
        "print(\"Integers:\", int_list)\n",
        "\n",
        "\n",
        "float_list = cast_list_elements(my_list, float)\n",
        "print(\"Floats:\", float_list)\n",
        "\n",
        "\n",
        "str_list = cast_list_elements(my_list, str)\n",
        "print(\"Strings:\", str_list)\n"
      ],
      "metadata": {
        "colab": {
          "base_uri": "https://localhost:8080/"
        },
        "id": "o0plL5EQOhJs",
        "outputId": "25cba2c8-aef2-4ea0-bd40-dd9d756ef3be"
      },
      "execution_count": 18,
      "outputs": [
        {
          "output_type": "stream",
          "name": "stdout",
          "text": [
            "Cannot cast '2.5' to int\n",
            "Cannot cast 'a' to int\n",
            "Cannot cast '4.2' to int\n",
            "Integers: [1, '2.5', 3, 'a', '4.2']\n",
            "Cannot cast 'a' to float\n",
            "Floats: [1.0, 2.5, 3.0, 'a', 4.2]\n",
            "Strings: ['1', '2.5', '3', 'a', '4.2']\n"
          ]
        }
      ]
    },
    {
      "cell_type": "code",
      "source": [
        "#11.Write a program that checks if a number is positive, negative, or zero.\n",
        "\n",
        "def check_number(num):\n",
        "\n",
        "    if num > 0:\n",
        "        return \"Positive\"\n",
        "    elif num < 0:\n",
        "        return \"Negative\"\n",
        "    else:\n",
        "        return \"Zero\"\n",
        "\n",
        "number = float(input(\"Enter a number: \"))\n",
        "\n",
        "result = check_number(number)\n",
        "print(f\"The number is: {result}\")"
      ],
      "metadata": {
        "colab": {
          "base_uri": "https://localhost:8080/"
        },
        "id": "aXRb_dbRPYqo",
        "outputId": "b153a7fe-dfe5-44ee-d084-83a936fce1b5"
      },
      "execution_count": 21,
      "outputs": [
        {
          "output_type": "stream",
          "name": "stdout",
          "text": [
            "Enter a number: 0\n",
            "The number is: Zero\n"
          ]
        }
      ]
    },
    {
      "cell_type": "code",
      "source": [
        "#12.Write a for loop to print numbers from 1 to 10\n",
        "\n",
        "for i in range(1, 11):\n",
        "    print(i)"
      ],
      "metadata": {
        "colab": {
          "base_uri": "https://localhost:8080/"
        },
        "id": "r1kL37ewPqqB",
        "outputId": "c6628840-63bc-4fdb-aa63-4176011db627"
      },
      "execution_count": 22,
      "outputs": [
        {
          "output_type": "stream",
          "name": "stdout",
          "text": [
            "1\n",
            "2\n",
            "3\n",
            "4\n",
            "5\n",
            "6\n",
            "7\n",
            "8\n",
            "9\n",
            "10\n"
          ]
        }
      ]
    },
    {
      "cell_type": "code",
      "source": [
        "#13.Write a Python program to find the sum of all even numbers between 1 and 500\n",
        "\n",
        "sum_of_even_numbers = 0\n",
        "\n",
        "for i in range(2, 501, 2):\n",
        "\n",
        "    sum_of_even_numbers += i\n",
        "\n",
        "print(\"Sum of even numbers between 1 and 500:\", sum_of_even_numbers)"
      ],
      "metadata": {
        "colab": {
          "base_uri": "https://localhost:8080/"
        },
        "id": "GlMqkyrQQILf",
        "outputId": "3e1b0b92-c18f-4341-a194-8b1637607a85"
      },
      "execution_count": 23,
      "outputs": [
        {
          "output_type": "stream",
          "name": "stdout",
          "text": [
            "Sum of even numbers between 1 and 500: 62750\n"
          ]
        }
      ]
    },
    {
      "cell_type": "code",
      "source": [
        "#14.Write a program to reverse a string using a while loop.\n",
        "\n",
        "def reverse_string(s):\n",
        "\n",
        "  reversed_str = \"\"\n",
        "  i = len(s) - 1\n",
        "  while i >= 0:\n",
        "    reversed_str += s[i]\n",
        "    i -= 1\n",
        "  return reversed_str\n",
        "\n",
        "\n",
        "my_string = \"hello\"\n",
        "reversed_string = reverse_string(my_string)\n",
        "print(\"Original string:\", my_string)\n",
        "print(\"Reversed string:\", reversed_string)"
      ],
      "metadata": {
        "colab": {
          "base_uri": "https://localhost:8080/"
        },
        "id": "9mtb_RpzQc7y",
        "outputId": "309900c1-5ef1-4f91-8614-5d4ac1ea4878"
      },
      "execution_count": 24,
      "outputs": [
        {
          "output_type": "stream",
          "name": "stdout",
          "text": [
            "Original string: hello\n",
            "Reversed string: olleh\n"
          ]
        }
      ]
    },
    {
      "cell_type": "code",
      "source": [
        "#15.Write a Python program to calculate the factorial of a number provided by the user using a while loop.\n",
        "\n",
        "def factorial(n):\n",
        "\n",
        "  if n < 0:\n",
        "    return \"Factorial is not defined for negative numbers.\"\n",
        "\n",
        "  factorial = 1\n",
        "  i = 1\n",
        "  while i <= n:\n",
        "    factorial *= i\n",
        "    i += 1\n",
        "  return factorial\n",
        "\n",
        "num = int(input(\"Enter a non-negative integer: \"))\n",
        "\n",
        "result = factorial(num)\n",
        "print(\"Factorial of\", num, \"is\", result)"
      ],
      "metadata": {
        "colab": {
          "base_uri": "https://localhost:8080/"
        },
        "id": "wGP0pkIRQp_R",
        "outputId": "e59fb536-d1d6-4913-90dc-355368ce49af"
      },
      "execution_count": 25,
      "outputs": [
        {
          "output_type": "stream",
          "name": "stdout",
          "text": [
            "Enter a non-negative integer: 4\n",
            "Factorial of 4 is 24\n"
          ]
        }
      ]
    }
  ]
}